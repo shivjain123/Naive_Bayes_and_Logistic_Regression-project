{
  "nbformat": 4,
  "nbformat_minor": 0,
  "metadata": {
    "colab": {
      "name": "Naive Bayes and Logistic Regression (project).ipynb",
      "provenance": [],
      "authorship_tag": "ABX9TyMciL6NMoD/cDrWHrHt5bvF",
      "include_colab_link": true
    },
    "kernelspec": {
      "name": "python3",
      "display_name": "Python 3"
    },
    "language_info": {
      "name": "python"
    }
  },
  "cells": [
    {
      "cell_type": "markdown",
      "metadata": {
        "id": "view-in-github",
        "colab_type": "text"
      },
      "source": [
        "<a href=\"https://colab.research.google.com/github/shivjain123/Naive_Bayes_and_Logistic_Regression-project/blob/master/Naive_Bayes_and_Logistic_Regression_(project).ipynb\" target=\"_parent\"><img src=\"https://colab.research.google.com/assets/colab-badge.svg\" alt=\"Open In Colab\"/></a>"
      ]
    },
    {
      "cell_type": "code",
      "metadata": {
        "id": "tYqF0LtSpUQe"
      },
      "source": [
        "import pandas as pd\n",
        "from sklearn.model_selection import train_test_split as tts\n",
        "from sklearn.naive_bayes import GaussianNB as g\n",
        "from sklearn.metrics import accuracy_score as acs\n",
        "from sklearn.linear_model import LogisticRegression as lr\n",
        "from sklearn.preprocessing import StandardScaler"
      ],
      "execution_count": 26,
      "outputs": []
    },
    {
      "cell_type": "code",
      "metadata": {
        "id": "1Mh1d7Z8TZ-u"
      },
      "source": [
        "df = pd.read_csv(\"savings_data_final.csv\")\n",
        "\n",
        "df.head()"
      ],
      "execution_count": null,
      "outputs": []
    },
    {
      "cell_type": "code",
      "metadata": {
        "id": "0OUZfUlfw_12"
      },
      "source": [
        "features = df[[\"quant_saved\", \"age\"]]\n",
        "label = df[\"wealthy\"]\n",
        "\n",
        "x_train, x_test, y_train, y_test = tts(features, label, train_size = 0.75, test_size = 0.25, random_state = 6)\n",
        "\n",
        "naive_model = g()\n",
        "\n",
        "naive_model.fit(x_train, y_train)"
      ],
      "execution_count": null,
      "outputs": []
    },
    {
      "cell_type": "code",
      "metadata": {
        "colab": {
          "base_uri": "https://localhost:8080/"
        },
        "id": "XcMJvsDQ5Ljp",
        "outputId": "9a324a76-584e-46bc-f172-c69cf77d633e"
      },
      "source": [
        "y_pred = naive_model.predict(x_test)\n",
        "my_accuracy_score = acs(y_test, y_pred)\n",
        "\n",
        "print(f\"The Accuracy Score by Naive Bayes Algorithm is {my_accuracy_score}.\")"
      ],
      "execution_count": 22,
      "outputs": [
        {
          "output_type": "stream",
          "text": [
            "The Accuracy Score by Naive Bayes Algorithm is 0.7890855457227138.\n"
          ],
          "name": "stdout"
        }
      ]
    },
    {
      "cell_type": "code",
      "metadata": {
        "id": "rc4N0M1_6THW"
      },
      "source": [
        "logistic_model = lr(random_state = 0)\n",
        "\n",
        "logistic_model.fit(x_train, y_train)\n",
        "\n",
        "new_prediction = logistic_model.predict(x_test)\n",
        "\n",
        "new_acc_score = acs(y_test, new_prediction)\n",
        "\n",
        "print(f\"The Accuracy Score by Logistic Regression is {new_acc_score}.\")"
      ],
      "execution_count": null,
      "outputs": []
    },
    {
      "cell_type": "code",
      "metadata": {
        "colab": {
          "base_uri": "https://localhost:8080/"
        },
        "id": "JYMR_ge68KRR",
        "outputId": "d33550b6-22eb-4872-fa5b-02dd302412cc"
      },
      "source": [
        "#Thus, The Naive Bayes Prediction Model is slightly more accurate then the Logistic Regression Prediction Model, in this case.\n",
        "\n",
        "savings = float(input(\"Please enter your savings.\"))\n",
        "age = float(input(\"Please enter your age.\"))\n",
        "\n",
        "sc = StandardScaler()\n",
        "\n",
        "x_train = sc.fit_transform(x_train)\n",
        "x_test = sc.fit_transform(x_test)\n",
        "\n",
        "test = sc.transform([[savings, age]])\n",
        "final_test = naive_model.predict(test)\n",
        "\n",
        "if final_test == 0:\n",
        "  print()\n",
        "  print(\"You are not wealthy.\")\n",
        "else :\n",
        "  print()\n",
        "  print(\"Your are wealthy.\")"
      ],
      "execution_count": 32,
      "outputs": [
        {
          "output_type": "stream",
          "text": [
            "Please enter your savings.13.0908\n",
            "Please enter your age.28.0\n",
            "[0]\n",
            "\n",
            "You are not wealthy.\n"
          ],
          "name": "stdout"
        }
      ]
    }
  ]
}